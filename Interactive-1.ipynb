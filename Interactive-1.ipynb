{
 "cells": [
  {
   "cell_type": "markdown",
   "metadata": {},
   "source": [
    "_正在連線到 media (Python 3.11.3)..._"
   ]
  },
  {
   "cell_type": "code",
   "execution_count": null,
   "metadata": {},
   "outputs": [
    {
     "ename": "",
     "evalue": "",
     "output_type": "error",
     "traceback": [
      "\u001b[1;31m執行具有 'media' 的儲存格需要 ipykernel 套件。\n",
      "\u001b[1;31mRun the following command to install 'ipykernel' into the Python environment. \n",
      "\u001b[1;31mCommand: '/Users/zhonghonghao/tf-idf-cloud-text/media/bin/python -m pip install ipykernel -U --force-reinstall'"
     ]
    }
   ],
   "source": [
    "storage_folder = \"clean data\"\n",
    "filenames = os.listdir(storage_folder)\n",
    "singers = {}\n",
    "for filename in filenames:\n",
    "    path = f\"{storage_folder}/{filename}\"\n",
    "    with open(path,encoding=\"utf-8\") as file:\n",
    "        #每位歌手的歌詞以字串形式連接\n",
    "        lyric = \"\"\n",
    "        for i,line in enumerate(file.readlines()):\n",
    "            if i==0:continue\n",
    "            title, content = line.split(\",\",1)\n",
    "            lyric += content\n",
    "        singer = filename.split(\".\")[0]\n",
    "        singers[singer] = lyric\n",
    "\n",
    "stop_words_path = \"stop_words\"\n",
    "stop_words_path = [f\"{stop_words_path}/{path}\" for path in os.listdir(stop_words_path)]\n",
    "ws = WordSegment(singers.values(),stop_words_path=stop_words_path)\n",
    "ws.read_dictionary()\n",
    "ws.read_stop_words()\n",
    "ws.remove_stop_words()\n",
    "text_files = [text.split(\" \") for text in ws.texts]"
   ]
  },
  {
   "cell_type": "markdown",
   "metadata": {},
   "source": [
    "已連線至 media (Python 3.11.3)"
   ]
  },
  {
   "cell_type": "code",
   "execution_count": null,
   "metadata": {},
   "outputs": [],
   "source": [
    "storage_folder = \"clean data\"\n",
    "filenames = os.listdir(storage_folder)\n",
    "singers = {}\n",
    "for filename in filenames:\n",
    "    path = f\"{storage_folder}/{filename}\"\n",
    "    with open(path,encoding=\"utf-8\") as file:\n",
    "        #每位歌手的歌詞以字串形式連接\n",
    "        lyric = \"\"\n",
    "        for i,line in enumerate(file.readlines()):\n",
    "            if i==0:continue\n",
    "            title, content = line.split(\",\",1)\n",
    "            lyric += content\n",
    "        singer = filename.split(\".\")[0]\n",
    "        singers[singer] = lyric\n",
    "\n",
    "stop_words_path = \"stop_words\"\n",
    "stop_words_path = [f\"{stop_words_path}/{path}\" for path in os.listdir(stop_words_path)]\n",
    "ws = WordSegment(singers.values(),stop_words_path=stop_words_path)\n",
    "ws.read_dictionary()\n",
    "ws.read_stop_words()\n",
    "ws.remove_stop_words()\n",
    "text_files = [text.split(\" \") for text in ws.texts]"
   ]
  }
 ],
 "metadata": {
  "kernelspec": {
   "display_name": "media",
   "language": "python",
   "name": "python3"
  },
  "language_info": {
   "name": "python",
   "version": "3.11.3"
  }
 },
 "nbformat": 4,
 "nbformat_minor": 2
}
